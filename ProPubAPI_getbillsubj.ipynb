{
 "cells": [
  {
   "cell_type": "code",
   "execution_count": 9,
   "metadata": {},
   "outputs": [
    {
     "name": "stdout",
     "output_type": "stream",
     "text": [
      "getting https://api.propublica.org/congress/v1/bills/subjects/global-warming.json\n",
      "Combined and saved 10 responses as global-warming_bills_00-09_offset0-180.csv\n"
     ]
    }
   ],
   "source": [
    "import requests as req\n",
    "import pandas as pd\n",
    "\n",
    "# options for viewing dataframes etc in jupyter\n",
    "pd.set_option('max_rows', 300)\n",
    "pd.set_option('max_columns', 20)\n",
    "pd.set_option('max_colwidth', 200)\n",
    "\n",
    "# ProPublica api get request for bills by subject \n",
    "get_bill_by_subj = 'https://api.propublica.org/congress/v1/bills/subjects/'\n",
    "key = open(\"propubk.txt\").read()\n",
    "headers = { 'X-API-Key' : key, 'content-type':'application/json' }\n",
    "\n",
    "def gatherAndPrint( subj, start, stop ):\n",
    "    if type(subj) is not str:\n",
    "        print(\"error: define subject(str), offset start (int), offset stop (int)\")\n",
    "    else:\n",
    "        url = get_bill_by_subj + subj + '.json'\n",
    "        print('getting '+url)\n",
    "        \n",
    "        # array to hold dataframes\n",
    "        frames = []\n",
    "        \n",
    "        # if valid range of offsets ('stop' inclusive)\n",
    "        if stop > start:\n",
    "            # get each set of results, append to frame array, concat as 1 dataframe\n",
    "            for o in range(start, stop +1):\n",
    "                response = req.get(url, headers=headers, params={'offset': o*20 })\n",
    "                responseDF = pd.read_json(response.text)\n",
    "                results = pd.DataFrame.from_records(responseDF['results'])\n",
    "                frames.append(results)\n",
    "            billsDF = pd.concat(frames)\n",
    "            filename = subj+'_bills_0'+str(start)+'-0'+str(stop)+'_offset'+str(start*20)+'-'+str(stop*20)+'.csv'\n",
    "            billsDF.to_csv(filename)\n",
    "            print('Combined and saved '+ str(len(frames))+ ' responses as '+filename) \n",
    "            billsDF\n",
    "        \n",
    "        # if a single offset (e.g. start 0, stop 0)\n",
    "        elif stop - start == 0:\n",
    "            response = req.get(url, headers=headers, params={'offset': start*20 })\n",
    "            responseDF = pd.read_json(response.text)\n",
    "            results = pd.DataFrame.from_records(responseDF['results'])\n",
    "            filename = subj+'_bills_0'+str(start)+'_offset'+str(start*20)+'.csv'\n",
    "            results.to_csv(filename)\n",
    "            print('Saved offset '+ str(start*20) +' as '+filename) \n",
    "            results\n",
    "        else:\n",
    "            print('error: could not resolve offset')\n",
    "\n",
    "# subject query examples: 'climate-change', 'coal'\n",
    "gatherAndPrint('climate-change', 0, 4)"
   ]
  }
 ],
 "metadata": {
  "kernelspec": {
   "display_name": "Python 3",
   "language": "python",
   "name": "python3"
  },
  "language_info": {
   "codemirror_mode": {
    "name": "ipython",
    "version": 3
   },
   "file_extension": ".py",
   "mimetype": "text/x-python",
   "name": "python",
   "nbconvert_exporter": "python",
   "pygments_lexer": "ipython3",
   "version": "3.6.3"
  }
 },
 "nbformat": 4,
 "nbformat_minor": 2
}
